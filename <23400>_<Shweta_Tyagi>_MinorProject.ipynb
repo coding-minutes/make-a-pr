{
  "nbformat": 4,
  "nbformat_minor": 0,
  "metadata": {
    "colab": {
      "provenance": [],
      "authorship_tag": "ABX9TyNcTNb2iqUy6eYFhAqNxHuU",
      "include_colab_link": true
    },
    "kernelspec": {
      "name": "python3",
      "display_name": "Python 3"
    },
    "language_info": {
      "name": "python"
    }
  },
  "cells": [
    {
      "cell_type": "markdown",
      "metadata": {
        "id": "view-in-github",
        "colab_type": "text"
      },
      "source": [
        "<a href=\"https://colab.research.google.com/github/ShwetaTyagi1/make-a-pr/blob/master/%3C23400%3E_%3CShweta_Tyagi%3E_MinorProject.ipynb\" target=\"_parent\"><img src=\"https://colab.research.google.com/assets/colab-badge.svg\" alt=\"Open In Colab\"/></a>"
      ]
    },
    {
      "cell_type": "markdown",
      "source": [
        "# ***MINOR*** ***PROJECT***"
      ],
      "metadata": {
        "id": "9NemNfzheiPZ"
      }
    },
    {
      "cell_type": "markdown",
      "source": [
        "## **TASK 1 - Exploratory Data Analysis**"
      ],
      "metadata": {
        "id": "MPF2GPaeerva"
      }
    },
    {
      "cell_type": "markdown",
      "source": [
        "<-----------------------Question 1----------------------------->\n"
      ],
      "metadata": {
        "id": "iIPTqdOle2TV"
      }
    },
    {
      "cell_type": "code",
      "source": [
        "import pandas as pd\n",
        "import numpy as np\n",
        "import matplotlib.pyplot as plt\n",
        "import seaborn as sns\n",
        "from fitter import Fitter, get_common_distributions, get_distributions\n",
        "\n",
        "\n",
        "\n",
        "df = pd.read_csv(\"movies.csv\")\n",
        "\n",
        "mean_rating = df['rating'].mean()\n",
        "median_rating = df['rating'].median()\n",
        "std_rating = df['rating'].std()\n",
        "\n",
        "print(\"Mean rating:\", mean_rating)\n",
        "print(\"Median rating:\", median_rating)\n",
        "print(\"Standard deviation of ratings:\", std_rating)"
      ],
      "metadata": {
        "colab": {
          "base_uri": "https://localhost:8080/"
        },
        "id": "1r1gKVBTe7H6",
        "outputId": "7d7ba9c4-42eb-40d7-860d-05cb5f2238af"
      },
      "execution_count": 1,
      "outputs": [
        {
          "output_type": "stream",
          "name": "stdout",
          "text": [
            "Mean rating: 5.932850241545893\n",
            "Median rating: 6.1\n",
            "Standard deviation of ratings: 1.553030800154227\n"
          ]
        }
      ]
    },
    {
      "cell_type": "code",
      "source": [
        "df.head()"
      ],
      "metadata": {
        "colab": {
          "base_uri": "https://localhost:8080/",
          "height": 403
        },
        "id": "eqJm32chgFJo",
        "outputId": "d3d54574-253c-4126-c0c7-43eb9fdaeab7"
      },
      "execution_count": 2,
      "outputs": [
        {
          "output_type": "execute_result",
          "data": {
            "text/plain": [
              "   Unnamed: 0                     title  year  length  budget  rating  votes  \\\n",
              "0           1                         $  1971     121     NaN     6.4    348   \n",
              "1           2         $1000 a Touchdown  1939      71     NaN     6.0     20   \n",
              "2           3    $21 a Day Once a Month  1941       7     NaN     8.2      5   \n",
              "3           4                   $40,000  1996      70     NaN     8.2      6   \n",
              "4           5  $50,000 Climax Show, The  1975      71     NaN     3.4     17   \n",
              "\n",
              "     r1    r2   r3  ...    r9   r10  mpaa  Action  Animation  Comedy  Drama  \\\n",
              "0   4.5   4.5  4.5  ...   4.5   4.5   NaN       0          0       1      1   \n",
              "1   0.0  14.5  4.5  ...   4.5  14.5   NaN       0          0       1      0   \n",
              "2   0.0   0.0  0.0  ...  24.5  24.5   NaN       0          1       0      0   \n",
              "3  14.5   0.0  0.0  ...  34.5  45.5   NaN       0          0       1      0   \n",
              "4  24.5   4.5  0.0  ...   0.0  24.5   NaN       0          0       0      0   \n",
              "\n",
              "  Documentary  Romance  Short  \n",
              "0           0        0      0  \n",
              "1           0        0      0  \n",
              "2           0        0      1  \n",
              "3           0        0      0  \n",
              "4           0        0      0  \n",
              "\n",
              "[5 rows x 25 columns]"
            ],
            "text/html": [
              "\n",
              "  <div id=\"df-eb04ed10-4922-47bd-a281-bac893ed1c59\">\n",
              "    <div class=\"colab-df-container\">\n",
              "      <div>\n",
              "<style scoped>\n",
              "    .dataframe tbody tr th:only-of-type {\n",
              "        vertical-align: middle;\n",
              "    }\n",
              "\n",
              "    .dataframe tbody tr th {\n",
              "        vertical-align: top;\n",
              "    }\n",
              "\n",
              "    .dataframe thead th {\n",
              "        text-align: right;\n",
              "    }\n",
              "</style>\n",
              "<table border=\"1\" class=\"dataframe\">\n",
              "  <thead>\n",
              "    <tr style=\"text-align: right;\">\n",
              "      <th></th>\n",
              "      <th>Unnamed: 0</th>\n",
              "      <th>title</th>\n",
              "      <th>year</th>\n",
              "      <th>length</th>\n",
              "      <th>budget</th>\n",
              "      <th>rating</th>\n",
              "      <th>votes</th>\n",
              "      <th>r1</th>\n",
              "      <th>r2</th>\n",
              "      <th>r3</th>\n",
              "      <th>...</th>\n",
              "      <th>r9</th>\n",
              "      <th>r10</th>\n",
              "      <th>mpaa</th>\n",
              "      <th>Action</th>\n",
              "      <th>Animation</th>\n",
              "      <th>Comedy</th>\n",
              "      <th>Drama</th>\n",
              "      <th>Documentary</th>\n",
              "      <th>Romance</th>\n",
              "      <th>Short</th>\n",
              "    </tr>\n",
              "  </thead>\n",
              "  <tbody>\n",
              "    <tr>\n",
              "      <th>0</th>\n",
              "      <td>1</td>\n",
              "      <td>$</td>\n",
              "      <td>1971</td>\n",
              "      <td>121</td>\n",
              "      <td>NaN</td>\n",
              "      <td>6.4</td>\n",
              "      <td>348</td>\n",
              "      <td>4.5</td>\n",
              "      <td>4.5</td>\n",
              "      <td>4.5</td>\n",
              "      <td>...</td>\n",
              "      <td>4.5</td>\n",
              "      <td>4.5</td>\n",
              "      <td>NaN</td>\n",
              "      <td>0</td>\n",
              "      <td>0</td>\n",
              "      <td>1</td>\n",
              "      <td>1</td>\n",
              "      <td>0</td>\n",
              "      <td>0</td>\n",
              "      <td>0</td>\n",
              "    </tr>\n",
              "    <tr>\n",
              "      <th>1</th>\n",
              "      <td>2</td>\n",
              "      <td>$1000 a Touchdown</td>\n",
              "      <td>1939</td>\n",
              "      <td>71</td>\n",
              "      <td>NaN</td>\n",
              "      <td>6.0</td>\n",
              "      <td>20</td>\n",
              "      <td>0.0</td>\n",
              "      <td>14.5</td>\n",
              "      <td>4.5</td>\n",
              "      <td>...</td>\n",
              "      <td>4.5</td>\n",
              "      <td>14.5</td>\n",
              "      <td>NaN</td>\n",
              "      <td>0</td>\n",
              "      <td>0</td>\n",
              "      <td>1</td>\n",
              "      <td>0</td>\n",
              "      <td>0</td>\n",
              "      <td>0</td>\n",
              "      <td>0</td>\n",
              "    </tr>\n",
              "    <tr>\n",
              "      <th>2</th>\n",
              "      <td>3</td>\n",
              "      <td>$21 a Day Once a Month</td>\n",
              "      <td>1941</td>\n",
              "      <td>7</td>\n",
              "      <td>NaN</td>\n",
              "      <td>8.2</td>\n",
              "      <td>5</td>\n",
              "      <td>0.0</td>\n",
              "      <td>0.0</td>\n",
              "      <td>0.0</td>\n",
              "      <td>...</td>\n",
              "      <td>24.5</td>\n",
              "      <td>24.5</td>\n",
              "      <td>NaN</td>\n",
              "      <td>0</td>\n",
              "      <td>1</td>\n",
              "      <td>0</td>\n",
              "      <td>0</td>\n",
              "      <td>0</td>\n",
              "      <td>0</td>\n",
              "      <td>1</td>\n",
              "    </tr>\n",
              "    <tr>\n",
              "      <th>3</th>\n",
              "      <td>4</td>\n",
              "      <td>$40,000</td>\n",
              "      <td>1996</td>\n",
              "      <td>70</td>\n",
              "      <td>NaN</td>\n",
              "      <td>8.2</td>\n",
              "      <td>6</td>\n",
              "      <td>14.5</td>\n",
              "      <td>0.0</td>\n",
              "      <td>0.0</td>\n",
              "      <td>...</td>\n",
              "      <td>34.5</td>\n",
              "      <td>45.5</td>\n",
              "      <td>NaN</td>\n",
              "      <td>0</td>\n",
              "      <td>0</td>\n",
              "      <td>1</td>\n",
              "      <td>0</td>\n",
              "      <td>0</td>\n",
              "      <td>0</td>\n",
              "      <td>0</td>\n",
              "    </tr>\n",
              "    <tr>\n",
              "      <th>4</th>\n",
              "      <td>5</td>\n",
              "      <td>$50,000 Climax Show, The</td>\n",
              "      <td>1975</td>\n",
              "      <td>71</td>\n",
              "      <td>NaN</td>\n",
              "      <td>3.4</td>\n",
              "      <td>17</td>\n",
              "      <td>24.5</td>\n",
              "      <td>4.5</td>\n",
              "      <td>0.0</td>\n",
              "      <td>...</td>\n",
              "      <td>0.0</td>\n",
              "      <td>24.5</td>\n",
              "      <td>NaN</td>\n",
              "      <td>0</td>\n",
              "      <td>0</td>\n",
              "      <td>0</td>\n",
              "      <td>0</td>\n",
              "      <td>0</td>\n",
              "      <td>0</td>\n",
              "      <td>0</td>\n",
              "    </tr>\n",
              "  </tbody>\n",
              "</table>\n",
              "<p>5 rows × 25 columns</p>\n",
              "</div>\n",
              "      <button class=\"colab-df-convert\" onclick=\"convertToInteractive('df-eb04ed10-4922-47bd-a281-bac893ed1c59')\"\n",
              "              title=\"Convert this dataframe to an interactive table.\"\n",
              "              style=\"display:none;\">\n",
              "        \n",
              "  <svg xmlns=\"http://www.w3.org/2000/svg\" height=\"24px\"viewBox=\"0 0 24 24\"\n",
              "       width=\"24px\">\n",
              "    <path d=\"M0 0h24v24H0V0z\" fill=\"none\"/>\n",
              "    <path d=\"M18.56 5.44l.94 2.06.94-2.06 2.06-.94-2.06-.94-.94-2.06-.94 2.06-2.06.94zm-11 1L8.5 8.5l.94-2.06 2.06-.94-2.06-.94L8.5 2.5l-.94 2.06-2.06.94zm10 10l.94 2.06.94-2.06 2.06-.94-2.06-.94-.94-2.06-.94 2.06-2.06.94z\"/><path d=\"M17.41 7.96l-1.37-1.37c-.4-.4-.92-.59-1.43-.59-.52 0-1.04.2-1.43.59L10.3 9.45l-7.72 7.72c-.78.78-.78 2.05 0 2.83L4 21.41c.39.39.9.59 1.41.59.51 0 1.02-.2 1.41-.59l7.78-7.78 2.81-2.81c.8-.78.8-2.07 0-2.86zM5.41 20L4 18.59l7.72-7.72 1.47 1.35L5.41 20z\"/>\n",
              "  </svg>\n",
              "      </button>\n",
              "      \n",
              "  <style>\n",
              "    .colab-df-container {\n",
              "      display:flex;\n",
              "      flex-wrap:wrap;\n",
              "      gap: 12px;\n",
              "    }\n",
              "\n",
              "    .colab-df-convert {\n",
              "      background-color: #E8F0FE;\n",
              "      border: none;\n",
              "      border-radius: 50%;\n",
              "      cursor: pointer;\n",
              "      display: none;\n",
              "      fill: #1967D2;\n",
              "      height: 32px;\n",
              "      padding: 0 0 0 0;\n",
              "      width: 32px;\n",
              "    }\n",
              "\n",
              "    .colab-df-convert:hover {\n",
              "      background-color: #E2EBFA;\n",
              "      box-shadow: 0px 1px 2px rgba(60, 64, 67, 0.3), 0px 1px 3px 1px rgba(60, 64, 67, 0.15);\n",
              "      fill: #174EA6;\n",
              "    }\n",
              "\n",
              "    [theme=dark] .colab-df-convert {\n",
              "      background-color: #3B4455;\n",
              "      fill: #D2E3FC;\n",
              "    }\n",
              "\n",
              "    [theme=dark] .colab-df-convert:hover {\n",
              "      background-color: #434B5C;\n",
              "      box-shadow: 0px 1px 3px 1px rgba(0, 0, 0, 0.15);\n",
              "      filter: drop-shadow(0px 1px 2px rgba(0, 0, 0, 0.3));\n",
              "      fill: #FFFFFF;\n",
              "    }\n",
              "  </style>\n",
              "\n",
              "      <script>\n",
              "        const buttonEl =\n",
              "          document.querySelector('#df-eb04ed10-4922-47bd-a281-bac893ed1c59 button.colab-df-convert');\n",
              "        buttonEl.style.display =\n",
              "          google.colab.kernel.accessAllowed ? 'block' : 'none';\n",
              "\n",
              "        async function convertToInteractive(key) {\n",
              "          const element = document.querySelector('#df-eb04ed10-4922-47bd-a281-bac893ed1c59');\n",
              "          const dataTable =\n",
              "            await google.colab.kernel.invokeFunction('convertToInteractive',\n",
              "                                                     [key], {});\n",
              "          if (!dataTable) return;\n",
              "\n",
              "          const docLinkHtml = 'Like what you see? Visit the ' +\n",
              "            '<a target=\"_blank\" href=https://colab.research.google.com/notebooks/data_table.ipynb>data table notebook</a>'\n",
              "            + ' to learn more about interactive tables.';\n",
              "          element.innerHTML = '';\n",
              "          dataTable['output_type'] = 'display_data';\n",
              "          await google.colab.output.renderOutput(dataTable, element);\n",
              "          const docLink = document.createElement('div');\n",
              "          docLink.innerHTML = docLinkHtml;\n",
              "          element.appendChild(docLink);\n",
              "        }\n",
              "      </script>\n",
              "    </div>\n",
              "  </div>\n",
              "  "
            ]
          },
          "metadata": {},
          "execution_count": 2
        }
      ]
    },
    {
      "cell_type": "code",
      "source": [
        "plt.hist(df['rating'], bins=10, edgecolor='black')\n",
        "plt.xlabel('Rating')\n",
        "plt.ylabel('Count')\n",
        "plt.title('Distribution of Movie Ratings')\n",
        "plt.show()\n"
      ],
      "metadata": {
        "colab": {
          "base_uri": "https://localhost:8080/",
          "height": 472
        },
        "id": "9U9ig281hJ6L",
        "outputId": "128d5c03-e756-4e5e-8a40-1885a7db909a"
      },
      "execution_count": 3,
      "outputs": [
        {
          "output_type": "display_data",
          "data": {
            "text/plain": [
              "<Figure size 640x480 with 1 Axes>"
            ],
            "image/png": "[encoded data removed]"
          },
          "metadata": {}
        }
      ]
    },
    {
      "cell_type": "markdown",
      "source": [
        "In the above analysis,\n",
        "\n",
        "1. Mean rating: 5.932850241545893\n",
        "\n",
        "2. Median rating: 6.1\n",
        "\n",
        "3. Standard deviation of ratings: 1.553030800154227\n"
      ],
      "metadata": {
        "id": "VwsbVFkph4h2"
      }
    },
    {
      "cell_type": "markdown",
      "source": [
        "A histogram has been plotted to analyze the distribution of the ratings.\n",
        "Here, the histogram appears to be approximately symmetric, with the mean and median values lying close together at 5.9 and 6.1 respectively."
      ],
      "metadata": {
        "id": "6YoKDVY5iG5G"
      }
    },
    {
      "cell_type": "markdown",
      "source": [
        "<-----------------------Question 2 ---------------------------->"
      ],
      "metadata": {
        "id": "-VJoFK2DiVxX"
      }
    },
    {
      "cell_type": "code",
      "source": [
        "action_movies = df.loc[df['Action'] == 1, 'title']\n",
        "filtered_movies = df[df['title'].isin(action_movies)]\n",
        "average_rating = filtered_movies['rating'].mean()\n",
        "print(\"Average Rating for Action Movies:\", average_rating)\n",
        "\n",
        "\n"
      ],
      "metadata": {
        "colab": {
          "base_uri": "https://localhost:8080/"
        },
        "id": "64L7OGKRif69",
        "outputId": "b27d1ec4-983f-4f6b-c9a5-e3ae80a958ef"
      },
      "execution_count": 32,
      "outputs": [
        {
          "output_type": "stream",
          "name": "stdout",
          "text": [
            "Average Rating for Action Movies: 5.344400785854617\n"
          ]
        }
      ]
    },
    {
      "cell_type": "code",
      "source": [
        "Animation_movies = df.loc[df['Animation'] == 1, 'title']\n",
        "filtered_movies = df[df['title'].isin(Animation_movies)]\n",
        "average_rating = filtered_movies['rating'].mean()\n",
        "print(\"Average Rating for Animation Movies:\", average_rating)"
      ],
      "metadata": {
        "colab": {
          "base_uri": "https://localhost:8080/"
        },
        "id": "qSJxSw0D5tk9",
        "outputId": "e6b3b2c8-a87c-4c79-c584-c2003f2df64d"
      },
      "execution_count": 33,
      "outputs": [
        {
          "output_type": "stream",
          "name": "stdout",
          "text": [
            "Average Rating for Animation Movies: 6.557575757575757\n"
          ]
        }
      ]
    },
    {
      "cell_type": "code",
      "source": [
        "Comedy_movies = df.loc[df['Comedy'] == 1, 'title']\n",
        "filtered_movies = df[df['title'].isin(Comedy_movies)]\n",
        "average_rating = filtered_movies['rating'].mean()\n",
        "print(\"Average Rating for Comedy Movies:\", average_rating)"
      ],
      "metadata": {
        "colab": {
          "base_uri": "https://localhost:8080/"
        },
        "id": "jmieg22Z5wvq",
        "outputId": "33c47a15-76fc-4632-da22-eb807b3d203e"
      },
      "execution_count": 34,
      "outputs": [
        {
          "output_type": "stream",
          "name": "stdout",
          "text": [
            "Average Rating for Comedy Movies: 5.952572124702365\n"
          ]
        }
      ]
    },
    {
      "cell_type": "code",
      "source": [
        "Drama_movies = df.loc[df['Drama'] == 1, 'title']\n",
        "filtered_movies = df[df['title'].isin(Drama_movies)]\n",
        "average_rating = filtered_movies['rating'].mean()\n",
        "print(\"Average Rating for Drama Movies:\", average_rating)"
      ],
      "metadata": {
        "colab": {
          "base_uri": "https://localhost:8080/"
        },
        "id": "qnAndBB45xd_",
        "outputId": "e50c26a3-7e22-471b-a83a-46eb2ae6cb4d"
      },
      "execution_count": 35,
      "outputs": [
        {
          "output_type": "stream",
          "name": "stdout",
          "text": [
            "Average Rating for Drama Movies: 6.133323183993041\n"
          ]
        }
      ]
    },
    {
      "cell_type": "code",
      "source": [
        "Documentary_movies = df.loc[df['Documentary'] == 1, 'title']\n",
        "filtered_movies = df[df['title'].isin(Documentary_movies)]\n",
        "average_rating = filtered_movies['rating'].mean()\n",
        "print(\"Average Rating for Documentary Movies:\", average_rating)"
      ],
      "metadata": {
        "colab": {
          "base_uri": "https://localhost:8080/"
        },
        "id": "8t8v0wGT5yOn",
        "outputId": "1851c0f7-c061-40a9-ab4a-9c8160c03ec3"
      },
      "execution_count": 36,
      "outputs": [
        {
          "output_type": "stream",
          "name": "stdout",
          "text": [
            "Average Rating for Documentary Movies: 6.622396694214876\n"
          ]
        }
      ]
    },
    {
      "cell_type": "code",
      "source": [
        "Romance_movies = df.loc[df['Romance'] == 1, 'title']\n",
        "filtered_movies = df[df['title'].isin(Romance_movies)]\n",
        "average_rating = filtered_movies['rating'].mean()\n",
        "print(\"Average Rating for Romance Movies:\", average_rating)"
      ],
      "metadata": {
        "colab": {
          "base_uri": "https://localhost:8080/"
        },
        "id": "cpSZoxeS5yzl",
        "outputId": "33c480f0-4fd6-4f27-d377-706164816184"
      },
      "execution_count": 37,
      "outputs": [
        {
          "output_type": "stream",
          "name": "stdout",
          "text": [
            "Average Rating for Romance Movies: 6.150334544064233\n"
          ]
        }
      ]
    },
    {
      "cell_type": "code",
      "source": [
        "Short_movies = df.loc[df['Short'] == 1, 'title']\n",
        "filtered_movies = df[df['title'].isin(Short_movies)]\n",
        "average_rating = filtered_movies['rating'].mean()\n",
        "print(\"Average Rating for Short Movies:\", average_rating)"
      ],
      "metadata": {
        "colab": {
          "base_uri": "https://localhost:8080/"
        },
        "id": "Jsg7wQPU5zUb",
        "outputId": "6a0848d3-58a1-4b5d-e9b1-3b58aa5442da"
      },
      "execution_count": 38,
      "outputs": [
        {
          "output_type": "stream",
          "name": "stdout",
          "text": [
            "Average Rating for Short Movies: 6.438604422604422\n"
          ]
        }
      ]
    },
    {
      "cell_type": "markdown",
      "source": [
        "Calculated the average ratings for each genre indiviually."
      ],
      "metadata": {
        "id": "pirZV2dK8uvf"
      }
    },
    {
      "cell_type": "code",
      "source": [
        "average_ratings = [5.344400785854617, 6.557575757575757, 5.952572124702365, 6.133323183993041 , 6.622396694214876, 6.150334544064233, 6.438604422604422]\n",
        "plt.figure(figsize=(8, 6))\n",
        "plt.bar(range(len(average_ratings)), average_ratings)\n",
        "plt.xlabel('Genre')\n",
        "plt.ylabel('Average Rating')\n",
        "plt.title('Average Ratings of different Genres')\n",
        "plt.xticks(range(len(average_ratings)), ['Action', 'Animation', 'Comedy', 'Drama', 'Documentary', 'Romance', 'Short'], rotation=45)\n",
        "plt.show()\n"
      ],
      "metadata": {
        "colab": {
          "base_uri": "https://localhost:8080/",
          "height": 627
        },
        "id": "7IDYrIG_7ECn",
        "outputId": "b95234e9-0b0e-404f-baea-4044b1e4b4c5"
      },
      "execution_count": 41,
      "outputs": [
        {
          "output_type": "display_data",
          "data": {
            "text/plain": [
              "<Figure size 800x600 with 1 Axes>"
            ],
            "image/png": "[encoded data removed]"
          },
          "metadata": {}
        }
      ]
    },
    {
      "cell_type": "markdown",
      "source": [
        "The y-axis indicates the average rating, while the x-axis represents the various genres. The ratings vary across the different types, with Animation receiving the highest average rating of 6.557575757575757 and Action having the lowest average rating of\n",
        " 5.344400785854617."
      ],
      "metadata": {
        "id": "2Y8BZrFD7uin"
      }
    },
    {
      "cell_type": "markdown",
      "source": [
        "<-----------------------Question 3 ---------------------------->"
      ],
      "metadata": {
        "id": "-Dn3upFhij_L"
      }
    },
    {
      "cell_type": "code",
      "source": [
        "from scipy.stats import pearsonr\n",
        "\n",
        "correlation = pearsonr(duration_rating_df['length'], duration_rating_df['rating'])\n",
        "correlation"
      ],
      "metadata": {
        "colab": {
          "base_uri": "https://localhost:8080/"
        },
        "id": "wAjW1cpsjg0e",
        "outputId": "9df5608f-e39d-4c1d-ca08-98e0450cb5ab"
      },
      "execution_count": 27,
      "outputs": [
        {
          "output_type": "execute_result",
          "data": {
            "text/plain": [
              "PearsonRResult(statistic=0.9999999999999991, pvalue=0.0)"
            ]
          },
          "metadata": {},
          "execution_count": 27
        }
      ]
    },
    {
      "cell_type": "markdown",
      "source": [
        "To investigate the relationship between movie duration and its rating, we have calculated the correlation coefficient. Correlation indicates the interdependence between two or more variables.\n",
        "\n",
        "We have obtained the Pearson's correlation coefficient and p value. Based on the obtained results,\n",
        "\n",
        "1. a very strong positive linear relationship between the movie duration and its rating can be observed. The Pearson correlation coefficient (statistic) is close to 1, indicating a near-perfect positive correlation.\n",
        "\n",
        "2. The p-value of 0.0 indicates that the correlation is statistically significant, such a strong correlation by chance alone is extremely low. suggesting that there is a real and significant relationship between movie duration and rating.\n"
      ],
      "metadata": {
        "id": "6F5H1t2HkjF-"
      }
    },
    {
      "cell_type": "markdown",
      "source": [
        "<-----------------------Question 4 ---------------------------->"
      ],
      "metadata": {
        "id": "ccBfWdmbnn1x"
      }
    },
    {
      "cell_type": "code",
      "source": [
        "year_rating_df = df[['year', 'rating']]\n",
        "threshold_year = 2000\n",
        "old_movies = year_rating_df[year_rating_df['year'] < threshold_year]\n",
        "new_movies = year_rating_df[year_rating_df['year'] >= threshold_year]\n",
        "old_movies_avg_rating = old_movies['rating'].mean()\n",
        "new_movies_avg_rating = new_movies['rating'].mean()\n",
        "print(\"Average rating for old movies:\", old_movies_avg_rating)\n",
        "print(\"Average rating for new movies:\", new_movies_avg_rating)\n"
      ],
      "metadata": {
        "colab": {
          "base_uri": "https://localhost:8080/"
        },
        "id": "n77EMzYWns1J",
        "outputId": "dce2aa19-3d46-483c-8451-1ec36d002427"
      },
      "execution_count": 21,
      "outputs": [
        {
          "output_type": "stream",
          "name": "stdout",
          "text": [
            "Average rating for old movies: 5.857051188566429\n",
            "Average rating for new movies: 6.270071368986931\n"
          ]
        }
      ]
    },
    {
      "cell_type": "markdown",
      "source": [
        "We have calculated the average rating for movies older than the year 2000 to be 5.8 approximately and those released after 2000 have an average rating of 6.2.\n",
        "\n",
        "Upon comparison,\n",
        "\n",
        "the difference between the average ratings does not appear drastic."
      ],
      "metadata": {
        "id": "dgQ9NYCUq5ZI"
      }
    },
    {
      "cell_type": "markdown",
      "source": [
        "<-----------------------Question 5 ---------------------------->"
      ],
      "metadata": {
        "id": "VFOIgH2FsE3h"
      }
    },
    {
      "cell_type": "code",
      "source": [
        "movie_ratings = df.groupby('title')['rating'].mean().sort_values(ascending=False)\n",
        "top_rated_movies = movie_ratings.head(10)\n",
        "for movie, rating in top_rated_movies.iteritems():\n",
        "    print(\"Movie:\", movie)\n",
        "    print(\"Average Rating:\", rating)\n",
        "    print()\n",
        "\n"
      ],
      "metadata": {
        "colab": {
          "base_uri": "https://localhost:8080/"
        },
        "id": "Sqjzvx2AsIwk",
        "outputId": "f0fb2e1f-4379-42ef-92f1-e5acbc63c7ef"
      },
      "execution_count": 25,
      "outputs": [
        {
          "output_type": "stream",
          "name": "stdout",
          "text": [
            "Movie: Fishing for Love\n",
            "Average Rating: 10.0\n",
            "\n",
            "Movie: Dimensia Minds Trilogy: The Hope Factor\n",
            "Average Rating: 10.0\n",
            "\n",
            "Movie: Summer Sonata, A\n",
            "Average Rating: 10.0\n",
            "\n",
            "Movie: Dimensia Minds Trilogy: The Reds\n",
            "Average Rating: 9.9\n",
            "\n",
            "Movie: Of Age\n",
            "Average Rating: 9.9\n",
            "\n",
            "Movie: Defilada\n",
            "Average Rating: 9.9\n",
            "\n",
            "Movie: Himala\n",
            "Average Rating: 9.9\n",
            "\n",
            "Movie: Shopping Part, The\n",
            "Average Rating: 9.9\n",
            "\n",
            "Movie: Sky of an Archangel\n",
            "Average Rating: 9.9\n",
            "\n",
            "Movie: New World, The\n",
            "Average Rating: 9.9\n",
            "\n"
          ]
        },
        {
          "output_type": "stream",
          "name": "stderr",
          "text": [
            "<ipython-input-25-306ba5156128>:3: FutureWarning: iteritems is deprecated and will be removed in a future version. Use .items instead.\n",
            "  for movie, rating in top_rated_movies.iteritems():\n"
          ]
        }
      ]
    },
    {
      "cell_type": "markdown",
      "source": [
        "After identifying the top rated movies across all genres, the above list has been created to showcase the identified movies with their corresponding ratings."
      ],
      "metadata": {
        "id": "SyEtF2kVyT5N"
      }
    },
    {
      "cell_type": "code",
      "source": [
        "plt.figure(figsize=(10, 6))\n",
        "plt.barh(top_rated_movies.index, top_rated_movies)\n",
        "plt.xlabel('Average Rating')\n",
        "plt.ylabel('Movie')\n",
        "plt.title('Top-rated Movies')\n",
        "plt.show()\n"
      ],
      "metadata": {
        "colab": {
          "base_uri": "https://localhost:8080/",
          "height": 442
        },
        "id": "JwHmHfAAyOLY",
        "outputId": "d5a230fb-da82-441d-db36-78c3a2888aee"
      },
      "execution_count": 26,
      "outputs": [
        {
          "output_type": "display_data",
          "data": {
            "text/plain": [
              "<Figure size 1000x600 with 1 Axes>"
            ],
            "image/png": "[encoded data removed]"
          },
          "metadata": {}
        }
      ]
    },
    {
      "cell_type": "markdown",
      "source": [
        "The above horizontal bar plot is a pictorial representation of the prior list. The X-axis represents the average ratings. The Y-axis displays the movie titles. Each bar represents a movie, and the length of the bar represents its average rating."
      ],
      "metadata": {
        "id": "PXNRWO5aymzq"
      }
    }
  ]
}